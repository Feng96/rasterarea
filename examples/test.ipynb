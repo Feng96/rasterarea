{
 "cells": [
  {
   "cell_type": "code",
   "execution_count": 1,
   "metadata": {},
   "outputs": [
    {
     "name": "stdout",
     "output_type": "stream",
     "text": [
      ":|mDhUQDeE0I\n"
     ]
    }
   ],
   "source": [
    "import random\n",
    "import string\n",
    "\n",
    "def generate_password(length=8):\n",
    "    \"\"\"\n",
    "    This function generates a random password consisting of lowercase and uppercase letters,\n",
    "    digits, and special characters.\n",
    "\n",
    "    :param length: the length of the password to be generated (default is 8)\n",
    "    :return: a string containing the generated password\n",
    "    \"\"\"\n",
    "    # Define the set of characters to choose from\n",
    "    characters = string.ascii_letters + string.digits + string.punctuation\n",
    "\n",
    "    # Generate the password\n",
    "    password = \"\".join(random.choice(characters) for i in range(length))\n",
    "\n",
    "    return password\n",
    "\n",
    "# Example usage: generate a password of length 12\n",
    "password = generate_password(12)\n",
    "print(password)"
   ]
  }
 ],
 "metadata": {
  "kernelspec": {
   "display_name": "geos",
   "language": "python",
   "name": "python3"
  },
  "language_info": {
   "codemirror_mode": {
    "name": "ipython",
    "version": 3
   },
   "file_extension": ".py",
   "mimetype": "text/x-python",
   "name": "python",
   "nbconvert_exporter": "python",
   "pygments_lexer": "ipython3",
   "version": "3.11.0"
  },
  "orig_nbformat": 4
 },
 "nbformat": 4,
 "nbformat_minor": 2
}
