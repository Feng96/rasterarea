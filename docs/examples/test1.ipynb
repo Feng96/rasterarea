{
 "cells": [
  {
   "attachments": {},
   "cell_type": "markdown",
   "metadata": {},
   "source": [
    "[![image](https://colab.research.google.com/assets/colab-badge.svg)](https://colab.research.google.com/github/Feng96/rasterarea/blob/master/docs/examples/test1.ipynb)"
   ]
  },
  {
   "cell_type": "code",
   "execution_count": null,
   "metadata": {},
   "outputs": [],
   "source": [
    "%pip install rasterarea"
   ]
  },
  {
   "cell_type": "code",
   "execution_count": 1,
   "metadata": {},
   "outputs": [],
   "source": [
    "import rasterarea"
   ]
  },
  {
   "cell_type": "code",
   "execution_count": 3,
   "metadata": {},
   "outputs": [
    {
     "ename": "AttributeError",
     "evalue": "'NoneType' object has no attribute 'GetProjectionRef'",
     "output_type": "error",
     "traceback": [
      "\u001b[1;31m---------------------------------------------------------------------------\u001b[0m",
      "\u001b[1;31mAttributeError\u001b[0m                            Traceback (most recent call last)",
      "Cell \u001b[1;32mIn[3], line 14\u001b[0m\n\u001b[0;32m     12\u001b[0m \u001b[39m# get the existing coordinate system\u001b[39;00m\n\u001b[0;32m     13\u001b[0m old_cs \u001b[39m=\u001b[39m osr\u001b[39m.\u001b[39mSpatialReference()\n\u001b[1;32m---> 14\u001b[0m old_cs\u001b[39m.\u001b[39mImportFromWkt(ds\u001b[39m.\u001b[39;49mGetProjectionRef())\n\u001b[0;32m     16\u001b[0m \u001b[39m# create the new coordinate system,\u001b[39;00m\n\u001b[0;32m     17\u001b[0m \u001b[39m# wgs84 AKA latitude/longitude which Google Maps requires\u001b[39;00m\n\u001b[0;32m     18\u001b[0m wgs84_wkt \u001b[39m=\u001b[39m \u001b[39m\"\"\"\u001b[39m\n\u001b[0;32m     19\u001b[0m \u001b[39mGEOGCS[\u001b[39m\u001b[39m\"\u001b[39m\u001b[39mWGS 84\u001b[39m\u001b[39m\"\u001b[39m\u001b[39m,\u001b[39m\n\u001b[0;32m     20\u001b[0m \u001b[39m    DATUM[\u001b[39m\u001b[39m\"\u001b[39m\u001b[39mWGS_1984\u001b[39m\u001b[39m\"\u001b[39m\u001b[39m,\u001b[39m\n\u001b[1;32m   (...)\u001b[0m\n\u001b[0;32m     27\u001b[0m \u001b[39m        AUTHORITY[\u001b[39m\u001b[39m\"\u001b[39m\u001b[39mEPSG\u001b[39m\u001b[39m\"\u001b[39m\u001b[39m,\u001b[39m\u001b[39m\"\u001b[39m\u001b[39m9122\u001b[39m\u001b[39m\"\u001b[39m\u001b[39m]],\u001b[39m\n\u001b[0;32m     28\u001b[0m \u001b[39m    AUTHORITY[\u001b[39m\u001b[39m\"\u001b[39m\u001b[39mEPSG\u001b[39m\u001b[39m\"\u001b[39m\u001b[39m,\u001b[39m\u001b[39m\"\u001b[39m\u001b[39m4326\u001b[39m\u001b[39m\"\u001b[39m\u001b[39m]]\u001b[39m\u001b[39m\"\"\"\u001b[39m\n",
      "\u001b[1;31mAttributeError\u001b[0m: 'NoneType' object has no attribute 'GetProjectionRef'"
     ]
    }
   ],
   "source": [
    "from osgeo import osr, gdal\n",
    "import os, sys\n",
    "\n",
    "#check for correct number of arguments\n",
    "\n",
    "inputfilename = sys.argv[1]\n",
    "basefilename = sys.argv[1].split(\".\")[0]\n",
    "textoutput = open(basefilename+\".latlng\", \"w\")\n",
    "\n",
    "ds = gdal.Open(inputfilename)\n",
    "\n",
    "# get the existing coordinate system\n",
    "old_cs = osr.SpatialReference()\n",
    "old_cs.ImportFromWkt(ds.GetProjectionRef())\n",
    "\n",
    "# create the new coordinate system,\n",
    "# wgs84 AKA latitude/longitude which Google Maps requires\n",
    "wgs84_wkt = \"\"\"\n",
    "GEOGCS[\"WGS 84\",\n",
    "    DATUM[\"WGS_1984\",\n",
    "        SPHEROID[\"WGS 84\",6378137,298.257223563,\n",
    "            AUTHORITY[\"EPSG\",\"7030\"]],\n",
    "        AUTHORITY[\"EPSG\",\"6326\"]],\n",
    "    PRIMEM[\"Greenwich\",0,\n",
    "        AUTHORITY[\"EPSG\",\"8901\"]],\n",
    "    UNIT[\"degree\",0.01745329251994328,\n",
    "        AUTHORITY[\"EPSG\",\"9122\"]],\n",
    "    AUTHORITY[\"EPSG\",\"4326\"]]\"\"\"\n",
    "new_cs = osr.SpatialReference()\n",
    "new_cs .ImportFromWkt(wgs84_wkt)\n",
    "\n",
    "# create a transform object to convert between coordinate systems\n",
    "transform = osr.CoordinateTransformation(old_cs,new_cs) \n",
    "\n",
    "#get the point to transform, pixel (0,0) in this case\n",
    "width = ds.RasterXSize\n",
    "height = ds.RasterYSize\n",
    "gt = ds.GetGeoTransform()\n",
    "\n",
    "minx = gt[0]\n",
    "maxx = gt[0] + width*gt[1] + height*gt[2]\n",
    "miny = gt[3] + width*gt[4] + height*gt[5]\n",
    "maxy = gt[3]\n",
    "\n",
    "#get the coordinates in lat long\n",
    "latlong = transform.TransformPoint(minx,miny)\n",
    "latlong2 = transform.TransformPoint(maxx,maxy)\n",
    "\n",
    "#write coordinates to file\n",
    "textoutput.write(str(latlong[1]))\n",
    "textoutput.write(\"\\n\")\n",
    "textoutput.write(str(latlong[0]))\n",
    "textoutput.write(\"\\n\")\n",
    "textoutput.write(str(latlong2[1]))\n",
    "textoutput.write(\"\\n\")\n",
    "textoutput.write(str(latlong2[0]))\n",
    "textoutput.write(\"\\n\")\n",
    "\n",
    "#creates color mapping file used by the gdaldem program\n",
    "color = open(\"color\", \"w\")\n",
    "color.write(\"0% 0 0 0\\n100% 255 255 255\\n\")\n",
    "color.close()\n",
    "\n",
    "#bash commands to call gdaldem, which generates the PNG file\n",
    "os.system(\"gdaldem color-relief \" + inputfilename + \" color \"+basefilename+\".png -of png\")\n",
    "\n",
    "#delete temporary files created by gdaldem\n",
    "os.system(\"rm \" + basefilename + \".png.aux.xml\")\n",
    "os.system(\"rm color\")"
   ]
  }
 ],
 "metadata": {
  "kernelspec": {
   "display_name": "Python 3.10.9",
   "language": "python",
   "name": "python3"
  },
  "language_info": {
   "codemirror_mode": {
    "name": "ipython",
    "version": 3
   },
   "file_extension": ".py",
   "mimetype": "text/x-python",
   "name": "python",
   "nbconvert_exporter": "python",
   "pygments_lexer": "ipython3",
   "version": "3.10.9"
  },
  "orig_nbformat": 4,
  "vscode": {
   "interpreter": {
    "hash": "1e42c37a309bde71c90c447b194d40554e1213c87481f60854860d61cd8cb4c0"
   }
  }
 },
 "nbformat": 4,
 "nbformat_minor": 2
}
