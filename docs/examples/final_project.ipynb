{
 "cells": [
  {
   "attachments": {},
   "cell_type": "markdown",
   "metadata": {},
   "source": [
    "[![image](https://colab.research.google.com/assets/colab-badge.svg)](https://colab.research.google.com/github/Feng96/rasterarea/blob/master/docs/examples/final_project.ipynb)"
   ]
  },
  {
   "cell_type": "code",
   "execution_count": 1,
   "metadata": {},
   "outputs": [],
   "source": [
    "## the visuallization of the tiff file used the add_layer function from geemap\n",
    "## be sure to install localtileserver package to your environment\n",
    "## conda install -c conda-forge gdal\n",
    "## conda install -c conda-forge localtileserver\n",
    "## you need to verified you GEE account before calling the Map\n",
    "\n",
    "# import the package\n",
    "import localtileserver\n",
    "import rasterarea"
   ]
  },
  {
   "cell_type": "code",
   "execution_count": 2,
   "metadata": {},
   "outputs": [
    {
     "data": {
      "application/vnd.jupyter.widget-view+json": {
       "model_id": "b26b43ad4aa54c54910efac74207b5a9",
       "version_major": 2,
       "version_minor": 0
      },
      "text/plain": [
       "HBox(children=(VBox(children=(SelectFilesButton(description='Select Files', icon='square-o', style=ButtonStyle…"
      ]
     },
     "metadata": {},
     "output_type": "display_data"
    },
    {
     "data": {
      "application/vnd.jupyter.widget-view+json": {
       "model_id": "e97c649ee01947b58cc90db721ef587c",
       "version_major": 2,
       "version_minor": 0
      },
      "text/plain": [
       "Map(center=[20, 0], controls=(WidgetControl(options=['position', 'transparent_bg'], widget=HBox(children=(Togg…"
      ]
     },
     "metadata": {},
     "output_type": "display_data"
    }
   ],
   "source": [
    "# call and display the interactive map\n",
    "m = rasterarea.Map()\n",
    "m"
   ]
  },
  {
   "cell_type": "code",
   "execution_count": 3,
   "metadata": {},
   "outputs": [],
   "source": [
    "# select files you want to upload\n",
    "# select the layer you want to visuallize in interactive map, default to the first file you uploaded\n",
    "# pick a point on the interactive map\n",
    "# click plot to create a time series plot of the pixel value that the point within\n",
    "# click save button to save the plot"
   ]
  },
  {
   "cell_type": "code",
   "execution_count": 4,
   "metadata": {},
   "outputs": [
    {
     "name": "stdout",
     "output_type": "stream",
     "text": [
      "[[-6.75000000e+01  8.55000000e+01  9.78725354e+08]\n",
      " [-6.65000000e+01  8.55000000e+01  9.78725354e+08]\n",
      " [-6.55000000e+01  8.55000000e+01  9.78725354e+08]\n",
      " ...\n",
      " [ 1.77500000e+02 -8.95000000e+01  1.08866682e+08]\n",
      " [ 1.78500000e+02 -8.95000000e+01  1.08866682e+08]\n",
      " [ 1.79500000e+02 -8.95000000e+01  1.08866682e+08]]\n"
     ]
    }
   ],
   "source": [
    "## get the pixel area arrary of the data\n",
    "file_path = './data/grace_tif/GRD-3_2018152-2018181_GRFO_UTCSR_BA01_0600_LND_v04.tif'\n",
    "\n",
    "point_arrary = rasterarea.point_cloud_arrary(file_path) # get the point arrary of the raster\n",
    "pixel_area = rasterarea.pixel_area_array(point_arrary)\n",
    "print(pixel_area)"
   ]
  }
 ],
 "metadata": {
  "kernelspec": {
   "display_name": "Python 3.10.9",
   "language": "python",
   "name": "python3"
  },
  "language_info": {
   "codemirror_mode": {
    "name": "ipython",
    "version": 3
   },
   "file_extension": ".py",
   "mimetype": "text/x-python",
   "name": "python",
   "nbconvert_exporter": "python",
   "pygments_lexer": "ipython3",
   "version": "3.10.9"
  },
  "orig_nbformat": 4,
  "vscode": {
   "interpreter": {
    "hash": "f4967102f3d7ee2114d1c952d9b57d40874b6c7d8b07e870867c2f7019cb5d6e"
   }
  }
 },
 "nbformat": 4,
 "nbformat_minor": 2
}
