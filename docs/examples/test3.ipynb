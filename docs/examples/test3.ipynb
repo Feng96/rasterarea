{
 "cells": [
  {
   "cell_type": "code",
   "execution_count": 1,
   "metadata": {},
   "outputs": [],
   "source": [
    "import rasterarea"
   ]
  },
  {
   "cell_type": "code",
   "execution_count": 2,
   "metadata": {},
   "outputs": [],
   "source": [
    "# read tiff file, create a point cloud array of the tiff file, with the first column is the center longitudes,\n",
    "# the second column is the center latitudes, the third column is the pixel values.\n",
    "data = rasterarea.point_cloud_arrary('D:/ndvidata/nchn_grace_tif/cg200301.tif')"
   ]
  },
  {
   "cell_type": "code",
   "execution_count": 3,
   "metadata": {},
   "outputs": [],
   "source": [
    "# caculate the pixel area array of the tiff file\n",
    "# input: point cloud array\n",
    "# output: pixel area array\n",
    "# 0: center longitudes 1: center latitudes 2:pixel areas\n",
    "raster_area = rasterarea.pixel_area_array(point_cloud_arrary=data,pixel_size=1,coordinatesp='WGS84')"
   ]
  },
  {
   "cell_type": "code",
   "execution_count": 4,
   "metadata": {},
   "outputs": [],
   "source": [
    "m = rasterarea.Map(center=(40.7128, -74.0060), zoom=10)"
   ]
  },
  {
   "cell_type": "code",
   "execution_count": 5,
   "metadata": {},
   "outputs": [
    {
     "data": {
      "application/vnd.jupyter.widget-view+json": {
       "model_id": "9bd443e9df7247cdb83096c62b99ab7d",
       "version_major": 2,
       "version_minor": 0
      },
      "text/plain": [
       "Map(center=[40.7128, -74.006], controls=(ZoomControl(options=['position', 'zoom_in_text', 'zoom_in_title', 'zo…"
      ]
     },
     "metadata": {},
     "output_type": "display_data"
    }
   ],
   "source": [
    "m"
   ]
  }
 ],
 "metadata": {
  "kernelspec": {
   "display_name": "geos",
   "language": "python",
   "name": "python3"
  },
  "language_info": {
   "codemirror_mode": {
    "name": "ipython",
    "version": 3
   },
   "file_extension": ".py",
   "mimetype": "text/x-python",
   "name": "python",
   "nbconvert_exporter": "python",
   "pygments_lexer": "ipython3",
   "version": "3.11.0"
  },
  "orig_nbformat": 4
 },
 "nbformat": 4,
 "nbformat_minor": 2
}
