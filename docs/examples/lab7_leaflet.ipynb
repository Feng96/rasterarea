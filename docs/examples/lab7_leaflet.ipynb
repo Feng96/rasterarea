{
 "cells": [
  {
   "attachments": {},
   "cell_type": "markdown",
   "metadata": {},
   "source": [
    "[![image](https://colab.research.google.com/assets/colab-badge.svg)](https://colab.research.google.com/github/Feng96/rasterarea/blob/master/docs/examples/lab7_leaflet.ipynb)\n"
   ]
  },
  {
   "cell_type": "code",
   "execution_count": null,
   "metadata": {},
   "outputs": [],
   "source": [
    "import rasterarea.ipyleafletmap as ipyleafletmap"
   ]
  },
  {
   "cell_type": "code",
   "execution_count": null,
   "metadata": {},
   "outputs": [],
   "source": [
    "m = ipyleafletmap.Map(center=[40, -100], zoom=5)\n",
    "m"
   ]
  },
  {
   "cell_type": "code",
   "execution_count": null,
   "metadata": {},
   "outputs": [],
   "source": [
    "# add a basemap\n",
    "m.add_basemap(\"roadmap\")\n"
   ]
  },
  {
   "cell_type": "code",
   "execution_count": null,
   "metadata": {},
   "outputs": [],
   "source": [
    "# add a shpfile layer\n",
    "url = \"http://www2.census.gov/geo/tiger/GENZ2015/shp/cb_2015_us_county_500k.zip\"\n",
    "m.add_shp(url, name=\"US Counties\")"
   ]
  }
 ],
 "metadata": {
  "kernelspec": {
   "display_name": "Python 3.10.9",
   "language": "python",
   "name": "python3"
  },
  "language_info": {
   "codemirror_mode": {
    "name": "ipython",
    "version": 3
   },
   "file_extension": ".py",
   "mimetype": "text/x-python",
   "name": "python",
   "nbconvert_exporter": "python",
   "pygments_lexer": "ipython3",
   "version": "3.10.9"
  },
  "orig_nbformat": 4,
  "vscode": {
   "interpreter": {
    "hash": "f4967102f3d7ee2114d1c952d9b57d40874b6c7d8b07e870867c2f7019cb5d6e"
   }
  }
 },
 "nbformat": 4,
 "nbformat_minor": 2
}
