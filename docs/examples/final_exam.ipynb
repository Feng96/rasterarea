{
 "cells": [],
 "metadata": {
  "kernelspec": {
   "display_name": "Python 3.10.10",
   "language": "python",
   "name": "python3"
  },
  "language_info": {
   "codemirror_mode": {
    "name": "ipython",
    "version": 3
   },
   "file_extension": ".py",
   "mimetype": "text/x-python",
   "name": "python",
   "nbconvert_exporter": "python",
   "pygments_lexer": "ipython3",
   "version": "3.10.10"
  },
  "orig_nbformat": 4,
  "vscode": {
   "interpreter": {
    "hash": "1e42c37a309bde71c90c447b194d40554e1213c87481f60854860d61cd8cb4c0"
   }
  }
 },
 "nbformat": 4,
 "nbformat_minor": 2
}
