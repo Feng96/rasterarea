{
    "cells": [
        {
            "cell_type": "code",
            "execution_count": 2,
            "metadata": {},
            "outputs": [],
            "source": [
                "import ipywidgets as widgets\n",
                "from ipyleaflet import WidgetControl"
            ]
        },
        {
            "cell_type": "markdown",
            "metadata": {},
            "source": [
                "## Creating a toolbar button"
            ]
        },
        {
            "cell_type": "code",
            "execution_count": 4,
            "metadata": {},
            "outputs": [],
            "source": [
                "widget_width = \"250px\"\n",
                "padding = \"0px 0px 0px 5px\"  # upper, right, bottom, left\n",
                "\n",
                "toolbar_button = widgets.ToggleButton(\n",
                "    value=False,\n",
                "    tooltip=\"Toolbar\",\n",
                "    icon=\"wrench\",\n",
                "    layout=widgets.Layout(width=\"28px\", height=\"28px\", padding=padding),\n",
                ")\n",
                "\n",
                "close_button = widgets.ToggleButton(\n",
                "    value=False,\n",
                "    tooltip=\"Close the tool\",\n",
                "    icon=\"times\",\n",
                "    button_style=\"primary\",\n",
                "    layout=widgets.Layout(height=\"28px\", width=\"28px\", padding=padding),\n",
                ")"
            ]
        },
        {
            "cell_type": "code",
            "execution_count": 5,
            "metadata": {},
            "outputs": [
                {
                    "data": {
                        "application/vnd.jupyter.widget-view+json": {
                            "model_id": "78fe7ad4b8fc46b89db178ddaa6a8349",
                            "version_major": 2,
                            "version_minor": 0
                        },
                        "text/plain": [
                            "HBox(children=(ToggleButton(value=False, icon='wrench', layout=Layout(height='28px', padding='0px 0px 0px 5px'…"
                        ]
                    },
                    "metadata": {},
                    "output_type": "display_data"
                }
            ],
            "source": [
                "toolbar = widgets.HBox([toolbar_button])\n",
                "toolbar"
            ]
        },
        {
            "cell_type": "markdown",
            "metadata": {},
            "source": [
                "## Adding toolbar event"
            ]
        },
        {
            "cell_type": "code",
            "execution_count": 4,
            "metadata": {},
            "outputs": [],
            "source": [
                "def toolbar_click(change):\n",
                "    if change[\"new\"]:\n",
                "        toolbar.children = [toolbar_button, close_button]\n",
                "    else:\n",
                "        toolbar.children = [toolbar_button]\n",
                "        \n",
                "toolbar_button.observe(toolbar_click, \"value\")"
            ]
        },
        {
            "cell_type": "code",
            "execution_count": 5,
            "metadata": {},
            "outputs": [
                {
                    "data": {
                        "application/vnd.jupyter.widget-view+json": {
                            "model_id": "dce65abd32da406a9b0073d35e784a4e",
                            "version_major": 2,
                            "version_minor": 0
                        },
                        "text/plain": [
                            "HBox(children=(ToggleButton(value=False, icon='wrench', layout=Layout(height='28px', padding='0px 0px 0px 5px'…"
                        ]
                    },
                    "metadata": {},
                    "output_type": "display_data"
                }
            ],
            "source": [
                "def close_click(change):\n",
                "    if change[\"new\"]:\n",
                "        toolbar_button.close()\n",
                "        close_button.close()\n",
                "        toolbar.close()\n",
                "        \n",
                "close_button.observe(close_click, \"value\")\n",
                "toolbar"
            ]
        },
        {
            "cell_type": "markdown",
            "metadata": {},
            "source": [
                "## Adding toolbar grid"
            ]
        },
        {
            "cell_type": "code",
            "execution_count": 6,
            "metadata": {},
            "outputs": [],
            "source": [
                "rows = 2\n",
                "cols = 2\n",
                "grid = widgets.GridspecLayout(rows, cols, grid_gap=\"0px\", layout=widgets.Layout(width=\"65px\"))"
            ]
        },
        {
            "cell_type": "markdown",
            "metadata": {},
            "source": [
                "icons: https://fontawesome.com/v4.7.0/icons/"
            ]
        },
        {
            "cell_type": "code",
            "execution_count": 7,
            "metadata": {},
            "outputs": [
                {
                    "data": {
                        "application/vnd.jupyter.widget-view+json": {
                            "model_id": "7428319d125c457993f8b8ac8922627d",
                            "version_major": 2,
                            "version_minor": 0
                        },
                        "text/plain": [
                            "GridspecLayout(children=(Button(button_style='primary', icon='folder-open', layout=Layout(grid_area='widget001…"
                        ]
                    },
                    "metadata": {},
                    "output_type": "display_data"
                }
            ],
            "source": [
                "icons = [\"folder-open\", \"map\", \"info\", \"question\"]\n",
                "\n",
                "for i in range(rows):\n",
                "    for j in range(cols):\n",
                "        grid[i, j] = widgets.Button(description=\"\", button_style=\"primary\", icon=icons[i*rows+j], \n",
                "                                    layout=widgets.Layout(width=\"28px\", padding=\"0px\"))\n",
                "grid"
            ]
        },
        {
            "cell_type": "code",
            "execution_count": 8,
            "metadata": {},
            "outputs": [],
            "source": [
                "toolbar = widgets.VBox([toolbar_button])"
            ]
        },
        {
            "cell_type": "code",
            "execution_count": 9,
            "metadata": {},
            "outputs": [
                {
                    "data": {
                        "application/vnd.jupyter.widget-view+json": {
                            "model_id": "82b59bb2e88c401abf147ad0f999d2d0",
                            "version_major": 2,
                            "version_minor": 0
                        },
                        "text/plain": [
                            "VBox(children=(ToggleButton(value=False, icon='wrench', layout=Layout(height='28px', padding='0px 0px 0px 5px'…"
                        ]
                    },
                    "metadata": {},
                    "output_type": "display_data"
                }
            ],
            "source": [
                "def toolbar_click(change):\n",
                "    if change[\"new\"]:\n",
                "        toolbar.children = [widgets.HBox([close_button, toolbar_button]), grid]\n",
                "    else:\n",
                "        toolbar.children = [toolbar_button]\n",
                "        \n",
                "toolbar_button.observe(toolbar_click, \"value\")\n",
                "toolbar"
            ]
        },
        {
            "cell_type": "markdown",
            "metadata": {},
            "source": [
                "## Adding toolbar to ipyleaflet"
            ]
        },
        {
            "cell_type": "code",
            "execution_count": 10,
            "metadata": {},
            "outputs": [],
            "source": [
                "toolbar_ctrl = WidgetControl(widget=toolbar, position=\"topright\")"
            ]
        },
        {
            "cell_type": "code",
            "execution_count": 34,
            "metadata": {
                "scrolled": false
            },
            "outputs": [
                {
                    "data": {
                        "application/vnd.jupyter.widget-view+json": {
                            "model_id": "27e6849972954e118206e2204e74f116",
                            "version_major": 2,
                            "version_minor": 0
                        },
                        "text/plain": [
                            "Map(center=[20, 0], controls=(ZoomControl(options=['position', 'zoom_in_text', 'zoom_in_title', 'zoom_out_text…"
                        ]
                    },
                    "metadata": {},
                    "output_type": "display_data"
                }
            ],
            "source": [
                "m = geosdemo.Map()\n",
                "m.add_control(toolbar_ctrl)\n",
                "m"
            ]
        },
        {
            "cell_type": "code",
            "execution_count": 12,
            "metadata": {},
            "outputs": [],
            "source": [
                "output = widgets.Output()\n",
                "output_ctrl = WidgetControl(widget=output, position=\"bottomright\")\n",
                "m.add_control(output_ctrl)"
            ]
        },
        {
            "cell_type": "code",
            "execution_count": 13,
            "metadata": {},
            "outputs": [
                {
                    "data": {
                        "text/plain": [
                            "(TileLayer(attribution='&copy; <a href=\"https://www.openstreetmap.org/copyright\">OpenStreetMap</a> contributors', base=True, max_zoom=19, min_zoom=1, name='OpenStreetMap.Mapnik', options=['attribution', 'bounds', 'detect_retina', 'max_native_zoom', 'max_zoom', 'min_native_zoom', 'min_zoom', 'no_wrap', 'tile_size', 'tms', 'zoom_offset'], url='https://tile.openstreetmap.org/{z}/{x}/{y}.png'),)"
                        ]
                    },
                    "execution_count": 13,
                    "metadata": {},
                    "output_type": "execute_result"
                }
            ],
            "source": [
                "m.layers"
            ]
        },
        {
            "cell_type": "code",
            "execution_count": 14,
            "metadata": {},
            "outputs": [],
            "source": [
                "def tool_click(b):    \n",
                "    with output:\n",
                "        output.clear_output()\n",
                "        print(f\"You clicked the {b.icon} button\")"
            ]
        },
        {
            "cell_type": "code",
            "execution_count": 15,
            "metadata": {},
            "outputs": [],
            "source": [
                "for i in range(rows):\n",
                "    for j in range(cols):\n",
                "        tool = grid[i, j]\n",
                "        tool.on_click(tool_click)"
            ]
        },
        {
            "cell_type": "code",
            "execution_count": 16,
            "metadata": {},
            "outputs": [],
            "source": [
                "with output:\n",
                "    output.clear_output()\n",
                "    print(\"Click on a button to see the output\")"
            ]
        },
        {
            "cell_type": "code",
            "execution_count": 25,
            "metadata": {},
            "outputs": [
                {
                    "data": {
                        "application/vnd.jupyter.widget-view+json": {
                            "model_id": "1d27ed527e7843579e9d756e81f8fa8d",
                            "version_major": 2,
                            "version_minor": 0
                        },
                        "text/plain": [
                            "Dropdown(description='Basemap:', layout=Layout(width='200px'), options=('OpenStreetMap', 'SATELLITE'), style=D…"
                        ]
                    },
                    "metadata": {},
                    "output_type": "display_data"
                }
            ],
            "source": [
                "basemap = widgets.Dropdown(\n",
                "    options=[\"OpenStreetMap\", \"SATELLITE\"],\n",
                "    value=None,\n",
                "    description=\"Basemap:\",\n",
                "    style={\"description_width\": \"initial\"},\n",
                "    layout=widgets.Layout(width=\"200px\"),\n",
                ")\n",
                "\n",
                "basemap"
            ]
        },
        {
            "cell_type": "code",
            "execution_count": 26,
            "metadata": {},
            "outputs": [],
            "source": [
                "basemap.value"
            ]
        },
        {
            "cell_type": "code",
            "execution_count": 27,
            "metadata": {},
            "outputs": [],
            "source": [
                "basemap_ctrl = WidgetControl(widget=basemap, position=\"topright\")"
            ]
        },
        {
            "cell_type": "code",
            "execution_count": 6,
            "metadata": {},
            "outputs": [],
            "source": [
                "def tool_click(b):    \n",
                "    with output:\n",
                "        output.clear_output()\n",
                "        print(f\"You clicked the {b.icon} button\")\n",
                "\n",
                "        if b.icon == \"folder-open\":\n",
                "            m.add_control(basemap_ctrl)"
            ]
        },
        {
            "cell_type": "code",
            "execution_count": 29,
            "metadata": {},
            "outputs": [],
            "source": [
                "for i in range(rows):\n",
                "    for j in range(cols):\n",
                "        tool = grid[i, j]\n",
                "        tool.on_click(tool_click)"
            ]
        },
        {
            "cell_type": "code",
            "execution_count": 33,
            "metadata": {},
            "outputs": [],
            "source": [
                "def change_basemap(change):\n",
                "    if change[\"new\"]:\n",
                "        m.add_basemap = basemap.value\n",
                "\n",
                "m.observe(change_basemap, \"value\")"
            ]
        },
        {
            "cell_type": "code",
            "execution_count": 32,
            "metadata": {},
            "outputs": [
                {
                    "data": {
                        "text/plain": [
                            "<function __main__.change_basemap(change)>"
                        ]
                    },
                    "execution_count": 32,
                    "metadata": {},
                    "output_type": "execute_result"
                }
            ],
            "source": [
                "change_basemap"
            ]
        },
        {
            "cell_type": "markdown",
            "metadata": {},
            "source": [
                "![](https://i.imgur.com/3LbyC1Y.gif)"
            ]
        }
    ],
    "metadata": {
        "hide_input": false,
        "kernelspec": {
            "display_name": "Python 3.10.10",
            "language": "python",
            "name": "python3"
        },
        "language_info": {
            "codemirror_mode": {
                "name": "ipython",
                "version": 3
            },
            "file_extension": ".py",
            "mimetype": "text/x-python",
            "name": "python",
            "nbconvert_exporter": "python",
            "pygments_lexer": "ipython3",
            "version": "3.10.9"
        },
        "toc": {
            "base_numbering": 1,
            "nav_menu": {},
            "number_sections": true,
            "sideBar": true,
            "skip_h1_title": false,
            "title_cell": "Table of Contents",
            "title_sidebar": "Contents",
            "toc_cell": false,
            "toc_position": {},
            "toc_section_display": true,
            "toc_window_display": false
        },
        "varInspector": {
            "cols": {
                "lenName": 16,
                "lenType": 16,
                "lenVar": 40
            },
            "kernels_config": {
                "python": {
                    "delete_cmd_postfix": "",
                    "delete_cmd_prefix": "del ",
                    "library": "var_list.py",
                    "varRefreshCmd": "print(var_dic_list())"
                },
                "r": {
                    "delete_cmd_postfix": ") ",
                    "delete_cmd_prefix": "rm(",
                    "library": "var_list.r",
                    "varRefreshCmd": "cat(var_dic_list()) "
                }
            },
            "types_to_exclude": [
                "module",
                "function",
                "builtin_function_or_method",
                "instance",
                "_Feature"
            ],
            "window_display": false
        },
        "vscode": {
            "interpreter": {
                "hash": "1e42c37a309bde71c90c447b194d40554e1213c87481f60854860d61cd8cb4c0"
            }
        }
    },
    "nbformat": 4,
    "nbformat_minor": 4
}
