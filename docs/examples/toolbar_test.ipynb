{
 "cells": [
  {
   "cell_type": "code",
   "execution_count": 9,
   "metadata": {},
   "outputs": [
    {
     "ename": "ModuleNotFoundError",
     "evalue": "No module named 'mpl_toolkits.basemap'",
     "output_type": "error",
     "traceback": [
      "\u001b[1;31m---------------------------------------------------------------------------\u001b[0m",
      "\u001b[1;31mModuleNotFoundError\u001b[0m                       Traceback (most recent call last)",
      "Cell \u001b[1;32mIn[9], line 6\u001b[0m\n\u001b[0;32m      4\u001b[0m \u001b[39mimport\u001b[39;00m \u001b[39mmatplotlib\u001b[39;00m \u001b[39mas\u001b[39;00m \u001b[39mmpl\u001b[39;00m\n\u001b[0;32m      5\u001b[0m \u001b[39mimport\u001b[39;00m \u001b[39mmatplotlib\u001b[39;00m\u001b[39m.\u001b[39;00m\u001b[39mpyplot\u001b[39;00m \u001b[39mas\u001b[39;00m \u001b[39mplt\u001b[39;00m\n\u001b[1;32m----> 6\u001b[0m \u001b[39mfrom\u001b[39;00m \u001b[39mmpl_toolkits\u001b[39;00m\u001b[39m.\u001b[39;00m\u001b[39mbasemap\u001b[39;00m \u001b[39mimport\u001b[39;00m Basemap\n\u001b[0;32m      7\u001b[0m \u001b[39mimport\u001b[39;00m \u001b[39mipywidgets\u001b[39;00m \u001b[39mas\u001b[39;00m \u001b[39mwidgets\u001b[39;00m\n\u001b[0;32m      8\u001b[0m \u001b[39mfrom\u001b[39;00m \u001b[39mipyfilechooser\u001b[39;00m \u001b[39mimport\u001b[39;00m FileChooser\n",
      "\u001b[1;31mModuleNotFoundError\u001b[0m: No module named 'mpl_toolkits.basemap'"
     ]
    }
   ],
   "source": [
    "import math\n",
    "import pandas as pd\n",
    "import numpy as np\n",
    "import matplotlib as mpl\n",
    "import matplotlib.pyplot as plt\n",
    "import ipywidgets as widgets\n",
    "from ipyfilechooser import FileChooser\n",
    "import netCDF4 as nc\n",
    "import os\n",
    "from ipywidgets import TwoByTwoLayout"
   ]
  },
  {
   "cell_type": "code",
   "execution_count": null,
   "metadata": {},
   "outputs": [],
   "source": [
    "import traitlets\n",
    "from ipywidgets import widgets\n",
    "from IPython.display import display\n",
    "from tkinter import Tk, filedialog"
   ]
  },
  {
   "cell_type": "code",
   "execution_count": null,
   "metadata": {},
   "outputs": [],
   "source": [
    "class SelectFilesButton(widgets.Button):\n",
    "    \"\"\"A file widget that leverages tkinter.filedialog.\"\"\"\n",
    "\n",
    "    def __init__(self):\n",
    "        super(SelectFilesButton, self).__init__()\n",
    "        # Add the selected_files trait\n",
    "        self.add_traits(files=traitlets.traitlets.List())\n",
    "        # Create the button.\n",
    "        self.description = \"Select Files\"\n",
    "        self.icon = \"square-o\"\n",
    "        # Set on click behavior.\n",
    "        self.on_click(self.select_files)\n",
    "\n",
    "    @staticmethod\n",
    "    def select_files(b):\n",
    "        \"\"\"Generate instance of tkinter.filedialog.\n",
    "\n",
    "        Parameters\n",
    "        ----------\n",
    "        b : obj:\n",
    "            An instance of ipywidgets.widgets.Button \n",
    "        \"\"\"\n",
    "        # Create Tk root\n",
    "        root = Tk()\n",
    "        # Hide the main window\n",
    "        root.withdraw()\n",
    "        # Raise the root to the top of all windows.\n",
    "        root.call('wm', 'attributes', '.', '-topmost', True)\n",
    "        # List of selected fileswill be set to b.value\n",
    "        b.files = filedialog.askopenfilename(multiple=True)\n",
    "\n",
    "        b.description = \"Files Selected\"\n",
    "        b.icon = \"check-square-o\"\n",
    "        b.style.button_color = \"lightgreen\""
   ]
  },
  {
   "cell_type": "code",
   "execution_count": null,
   "metadata": {},
   "outputs": [],
   "source": [
    "fn = 'data/grace_nc/GRD-3_2002094-2002120_GRAC_JPLEM_BA01_0600_LND_v04.nc'\n",
    "ds = nc.Dataset(fn)"
   ]
  },
  {
   "cell_type": "code",
   "execution_count": null,
   "metadata": {},
   "outputs": [],
   "source": [
    "print(ds)"
   ]
  },
  {
   "cell_type": "code",
   "execution_count": null,
   "metadata": {},
   "outputs": [],
   "source": [
    "lwe = ds['lwe_thickness']\n",
    "print(lwe)"
   ]
  },
  {
   "cell_type": "code",
   "execution_count": null,
   "metadata": {},
   "outputs": [],
   "source": [
    "lon = ds['lon']"
   ]
  },
  {
   "cell_type": "code",
   "execution_count": null,
   "metadata": {},
   "outputs": [],
   "source": [
    "fig=plt.plot()\n",
    "plt.axis('off')\n"
   ]
  },
  {
   "cell_type": "code",
   "execution_count": null,
   "metadata": {},
   "outputs": [],
   "source": [
    "\n",
    "class toolbox(widgets.HBox):\n",
    "     \n",
    "    def __init__(self):\n",
    "        super().__init__()\n",
    "        output = widgets.Output()\n",
    "        # create figure\n",
    "        with output:\n",
    "            fig=plt.plot()\n",
    "            plt.axis('off')\n",
    "        # define widgets\n",
    "        fileuploader = FileChooser()\n",
    "        layerselector = widgets.Dropdown()\n",
    "        plot_button = widgets.Button(description='Plot')\n",
    "\n",
    "\n",
    "                           \n",
    "        controls = widgets.VBox([\n",
    "            fileuploader,\n",
    "            plot_button\n",
    "        ])\n",
    "\n",
    "        app = TwoByTwoLayout(top_left=controls, top_right=output)\n",
    "\n",
    "        # observe stuff\n",
    "        fileuploader.observe(self.update, 'value')\n",
    "         \n",
    "        # add to children\n",
    "        self.children = [controls, output]\n",
    "     \n",
    "    def update(self, change):\n",
    "        \"\"\"Draw line in plot\"\"\"\n",
    "        self.fig.canvas.draw()\n",
    " \n",
    "         \n",
    "\n",
    "toolbox()"
   ]
  },
  {
   "cell_type": "code",
   "execution_count": null,
   "metadata": {},
   "outputs": [],
   "source": [
    "class Toolbar:\n",
    "    def __init__(self):\n",
    "        self.create_widgets()\n",
    "        self.setup_interactive_plot()\n",
    "        map_output = widgets.Output()\n",
    "        plot_output = widgets.Output()\n",
    "        self.fileuploader.observe(self.open_file, names='files')\n",
    "\n",
    "        with map_output:\n",
    "            map_output.clear_output()\n",
    "            fig=plt.plot()\n",
    "            plt.axis('off')\n",
    "\n",
    "        with plot_output:\n",
    "            plot_output.clear_output()\n",
    "            fig=plt.plot()\n",
    "            plt.axis('off')   \n",
    "\n",
    "    ## create buttons\n",
    "    def create_widgets(self):\n",
    "        self.fileuploader = SelectFilesButton()\n",
    "        self.plot_button = widgets.Button(description=\"Plot\")\n",
    "        self.save_button = widgets.Button(description=\"Save\")\n",
    "        self.plot_button.on_click(self.plot)\n",
    "        self.save_button.on_click(self.save)\n",
    "        self.layerselector = widgets.Dropdown(\n",
    "            options=[\"No file uploaded\"],\n",
    "            value=None,\n",
    "            description=\"Layer:\"\n",
    "        )\n",
    "    \n",
    "    ## define toolbar layout\n",
    "    def setup_interactive_plot(self):\n",
    "        display(self.fileuploader, self.layerselector, self.plot_button, self.save_button)\n",
    "    \n",
    "    ## define dropdown uppdate event\n",
    "    def update_dropdown(self):\n",
    "        self.layerselector.options = self.ds_list\n",
    "        self.layerselector.value = self.ds_list[0]\n",
    "\n",
    "    ## define open file event\n",
    "    def open_file(self, event=None):\n",
    "        init_ds = self.fileuploader.files[0]\n",
    "        if init_ds.endswith(\".nc\"):\n",
    "            self.ds = nc.Dataset(path)\n",
    "            self.ds_list = self.fileuploader.files\n",
    "            self.update_dropdown()\n",
    "        elif init_ds.endswith(\".tif\"):\n",
    "            self.ds = gdal.Open(path)\n",
    "            self.ds_list = self.fileuploader.files\n",
    "            self.update_dropdown()\n",
    "        else:\n",
    "            print(\"File type not supported\")\n",
    "        \n",
    "    def plot(self, event=None):\n",
    "        plt.figure()\n",
    "        x = np.linspace(0, 10, 100)\n",
    "        y = np.sin(x)\n",
    "        plt.plot(x, y)\n",
    "        plt.show()\n",
    "\n",
    "    def save(self, event=None):\n",
    "        plt.savefig(f\"test.png\", dpi=600)\n",
    "        print(f\"Plot saved as test.png\")\n",
    "\n",
    "\n",
    "Toolbar()"
   ]
  },
  {
   "cell_type": "code",
   "execution_count": 8,
   "metadata": {},
   "outputs": [
    {
     "data": {
      "application/vnd.jupyter.widget-view+json": {
       "model_id": "1284435224834409bbac65ca6cdd0fee",
       "version_major": 2,
       "version_minor": 0
      },
      "text/plain": [
       "SelectFilesButton(description='Select Files', icon='square-o', style=ButtonStyle())"
      ]
     },
     "metadata": {},
     "output_type": "display_data"
    },
    {
     "data": {
      "application/vnd.jupyter.widget-view+json": {
       "model_id": "823e945779204f92b7fb09ab38440d0e",
       "version_major": 2,
       "version_minor": 0
      },
      "text/plain": [
       "Dropdown(description='Layer:', options=('No file uploaded',), value=None)"
      ]
     },
     "metadata": {},
     "output_type": "display_data"
    },
    {
     "data": {
      "application/vnd.jupyter.widget-view+json": {
       "model_id": "32ec0ae240af4795aeefe3ca8d158149",
       "version_major": 2,
       "version_minor": 0
      },
      "text/plain": [
       "Button(description='Plot', style=ButtonStyle())"
      ]
     },
     "metadata": {},
     "output_type": "display_data"
    },
    {
     "data": {
      "application/vnd.jupyter.widget-view+json": {
       "model_id": "7e2f4f6f4d784515b959c997a8da85ac",
       "version_major": 2,
       "version_minor": 0
      },
      "text/plain": [
       "Button(description='Save', style=ButtonStyle())"
      ]
     },
     "metadata": {},
     "output_type": "display_data"
    },
    {
     "data": {
      "image/png": "[encoded data removed]",
      "text/plain": [
       "<Figure size 640x480 with 2 Axes>"
      ]
     },
     "metadata": {},
     "output_type": "display_data"
    },
    {
     "data": {
      "image/png": "[encoded data removed]",
      "text/plain": [
       "<Figure size 640x480 with 2 Axes>"
      ]
     },
     "metadata": {},
     "output_type": "display_data"
    }
   ],
   "source": [
    "\n",
    "class SelectFilesButton(widgets.Button):\n",
    "    \"\"\"A file widget that leverages tkinter.filedialog.\"\"\"\n",
    "\n",
    "    def __init__(self):\n",
    "        super(SelectFilesButton, self).__init__()\n",
    "        # Add the selected_files trait\n",
    "        self.add_traits(files=traitlets.traitlets.List())\n",
    "        # Create the button.\n",
    "        self.description = \"Select Files\"\n",
    "        self.icon = \"square-o\"\n",
    "        # Set on click behavior.\n",
    "        self.on_click(self.select_files)\n",
    "\n",
    "    @staticmethod\n",
    "    def select_files(b):\n",
    "        \"\"\"Generate instance of tkinter.filedialog.\n",
    "\n",
    "        Parameters\n",
    "        ----------\n",
    "        b : obj:\n",
    "            An instance of ipywidgets.widgets.Button \n",
    "        \"\"\"\n",
    "        # Create Tk root\n",
    "        root = Tk()\n",
    "        # Hide the main window\n",
    "        root.withdraw()\n",
    "        # Raise the root to the top of all windows.\n",
    "        root.call('wm', 'attributes', '.', '-topmost', True)\n",
    "        # List of selected fileswill be set to b.value\n",
    "        b.files = filedialog.askopenfilename(multiple=True)\n",
    "\n",
    "        b.description = \"Files Selected\"\n",
    "        b.icon = \"check-square-o\"\n",
    "        b.style.button_color = \"lightgreen\"\n",
    "\n",
    "class Toolbar:\n",
    "    def __init__(self):\n",
    "        self.create_widgets()\n",
    "        self.setup_interactive_plot()\n",
    "\n",
    "        # Observe the changes in the fileuploader.files and call open_file\n",
    "        self.fileuploader.observe(self.open_file, names='files')\n",
    "\n",
    "    ## create buttons\n",
    "    def create_widgets(self):\n",
    "        self.fileuploader = SelectFilesButton()\n",
    "        self.plot_button = widgets.Button(description=\"Plot\")\n",
    "        self.save_button = widgets.Button(description=\"Save\")\n",
    "        self.plot_button.on_click(self.plot)\n",
    "        self.save_button.on_click(self.save)\n",
    "        self.layerselector = widgets.Dropdown(\n",
    "            options=[\"No file uploaded\"],\n",
    "            value=None,\n",
    "            description=\"Layer:\"\n",
    "        )\n",
    "\n",
    "    ## define toolbar layout\n",
    "    def setup_interactive_plot(self):\n",
    "        display(self.fileuploader, self.layerselector, self.plot_button, self.save_button)\n",
    "\n",
    "    ## define open file event\n",
    "    def open_file(self, change):\n",
    "        self.ds_list = self.fileuploader.files\n",
    "        self.update_dropdown()\n",
    "\n",
    "    def update_dropdown(self):\n",
    "        if len(self.ds_list) > 0:\n",
    "            self.layerselector.options = self.ds_list\n",
    "            self.layerselector.value = self.ds_list[0]\n",
    "        else:\n",
    "            self.layerselector.options = [\"No file uploaded\"]\n",
    "            self.layerselector.value = None\n",
    "\n",
    "    def read_and_plot_file(self, file_path):\n",
    "        if file_path.endswith(\".nc\"):\n",
    "            ds = nc.Dataset(file_path)\n",
    "            lat = ds.variables['latitude'][:]\n",
    "            lon = ds.variables['longitude'][:]\n",
    "            data = ds.variables[var][:]\n",
    "            lons,lats= np.meshgrid(lon-180,lat)\n",
    "\n",
    "        elif file_path.endswith(\".tif\"):\n",
    "            with rasterio.open(file_path) as ds:\n",
    "                data = ds.read(1)  # Assume you want to read the first band\n",
    "        else:\n",
    "            print(\"File type not supported\")\n",
    "            return\n",
    "        \n",
    "        plt.figure()\n",
    "        map = Basemap()\n",
    "        plt.show()\n",
    "\n",
    "    def plot(self, event=None):\n",
    "        selected_file = self.layerselector.value\n",
    "        self.read_and_plot_file(selected_file)\n",
    "\n",
    "    def save(self, event=None):\n",
    "        plt.savefig(f\"test.png\", dpi=600)\n",
    "        print(f\"Plot saved as test.png\")\n",
    "\n",
    "toolbar = Toolbar()\n"
   ]
  },
  {
   "cell_type": "code",
   "execution_count": null,
   "metadata": {},
   "outputs": [],
   "source": []
  }
 ],
 "metadata": {
  "kernelspec": {
   "display_name": "geos",
   "language": "python",
   "name": "python3"
  },
  "language_info": {
   "codemirror_mode": {
    "name": "ipython",
    "version": 3
   },
   "file_extension": ".py",
   "mimetype": "text/x-python",
   "name": "python",
   "nbconvert_exporter": "python",
   "pygments_lexer": "ipython3",
   "version": "3.10.9"
  },
  "orig_nbformat": 4
 },
 "nbformat": 4,
 "nbformat_minor": 2
}
