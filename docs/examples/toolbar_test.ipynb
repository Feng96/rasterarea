{
 "cells": [
  {
   "cell_type": "code",
   "execution_count": 1,
   "metadata": {},
   "outputs": [],
   "source": [
    "import math\n",
    "import pandas as pd\n",
    "import numpy as np\n",
    "import matplotlib as mpl\n",
    "import matplotlib.pyplot as plt\n",
    "import ipywidgets as widgets\n",
    "from ipyfilechooser import FileChooser\n",
    "import netCDF4 as nc\n",
    "import os\n",
    "from ipywidgets import TwoByTwoLayout\n",
    "import traitlets\n",
    "from IPython.display import display\n",
    "from tkinter import Tk, filedialog\n",
    "from cartopy import config\n",
    "import cartopy.crs as ccrs"
   ]
  },
  {
   "cell_type": "code",
   "execution_count": null,
   "metadata": {},
   "outputs": [],
   "source": [
    "class SelectFilesButton(widgets.Button):\n",
    "    \"\"\"A file widget that leverages tkinter.filedialog.\"\"\"\n",
    "\n",
    "    def __init__(self):\n",
    "        super(SelectFilesButton, self).__init__()\n",
    "        # Add the selected_files trait\n",
    "        self.add_traits(files=traitlets.traitlets.List())\n",
    "        # Create the button.\n",
    "        self.description = \"Select Files\"\n",
    "        self.icon = \"square-o\"\n",
    "        # Set on click behavior.\n",
    "        self.on_click(self.select_files)\n",
    "\n",
    "    @staticmethod\n",
    "    def select_files(b):\n",
    "        \"\"\"Generate instance of tkinter.filedialog.\n",
    "\n",
    "        Parameters\n",
    "        ----------\n",
    "        b : obj:\n",
    "            An instance of ipywidgets.widgets.Button \n",
    "        \"\"\"\n",
    "        # Create Tk root\n",
    "        root = Tk()\n",
    "        # Hide the main window\n",
    "        root.withdraw()\n",
    "        # Raise the root to the top of all windows.\n",
    "        root.call('wm', 'attributes', '.', '-topmost', True)\n",
    "        # List of selected fileswill be set to b.value\n",
    "        b.files = filedialog.askopenfilename(multiple=True)\n",
    "\n",
    "        b.description = \"Files Selected\"\n",
    "        b.icon = \"check-square-o\"\n",
    "        b.style.button_color = \"lightgreen\""
   ]
  },
  {
   "cell_type": "code",
   "execution_count": 7,
   "metadata": {},
   "outputs": [
    {
     "ename": "FileNotFoundError",
     "evalue": "[Errno 2] No such file or directory: './data/grace_nc/GRD-3_2002094-2002120_GRAC_JPLEM_BA01_0600_LND_v04.nc'",
     "output_type": "error",
     "traceback": [
      "\u001b[1;31m---------------------------------------------------------------------------\u001b[0m",
      "\u001b[1;31mFileNotFoundError\u001b[0m                         Traceback (most recent call last)",
      "Cell \u001b[1;32mIn[7], line 2\u001b[0m\n\u001b[0;32m      1\u001b[0m fn \u001b[39m=\u001b[39m \u001b[39m'\u001b[39m\u001b[39m./data/grace_nc/GRD-3_2002094-2002120_GRAC_JPLEM_BA01_0600_LND_v04.nc\u001b[39m\u001b[39m'\u001b[39m\n\u001b[1;32m----> 2\u001b[0m ds \u001b[39m=\u001b[39m nc\u001b[39m.\u001b[39;49mDataset(fn)\n",
      "File \u001b[1;32msrc\\netCDF4\\_netCDF4.pyx:2449\u001b[0m, in \u001b[0;36mnetCDF4._netCDF4.Dataset.__init__\u001b[1;34m()\u001b[0m\n",
      "File \u001b[1;32msrc\\netCDF4\\_netCDF4.pyx:2012\u001b[0m, in \u001b[0;36mnetCDF4._netCDF4._ensure_nc_success\u001b[1;34m()\u001b[0m\n",
      "\u001b[1;31mFileNotFoundError\u001b[0m: [Errno 2] No such file or directory: './data/grace_nc/GRD-3_2002094-2002120_GRAC_JPLEM_BA01_0600_LND_v04.nc'"
     ]
    }
   ],
   "source": [
    "fn = './data/grace_nc/test1.nc'\n",
    "ds = nc.Dataset(fn)"
   ]
  },
  {
   "cell_type": "code",
   "execution_count": null,
   "metadata": {},
   "outputs": [],
   "source": [
    "print(ds)"
   ]
  },
  {
   "cell_type": "code",
   "execution_count": null,
   "metadata": {},
   "outputs": [],
   "source": [
    "lwe = ds['lwe_thickness']\n",
    "print(lwe)"
   ]
  },
  {
   "cell_type": "code",
   "execution_count": null,
   "metadata": {},
   "outputs": [],
   "source": [
    "lon = ds['lon']"
   ]
  },
  {
   "cell_type": "code",
   "execution_count": null,
   "metadata": {},
   "outputs": [],
   "source": [
    "fig=plt.plot()\n",
    "plt.axis('off')\n"
   ]
  },
  {
   "cell_type": "code",
   "execution_count": null,
   "metadata": {},
   "outputs": [],
   "source": [
    "\n",
    "class toolbox(widgets.HBox):\n",
    "     \n",
    "    def __init__(self):\n",
    "        super().__init__()\n",
    "        output = widgets.Output()\n",
    "        # create figure\n",
    "        with output:\n",
    "            fig=plt.plot()\n",
    "            plt.axis('off')\n",
    "        # define widgets\n",
    "        fileuploader = FileChooser()\n",
    "        layerselector = widgets.Dropdown()\n",
    "        plot_button = widgets.Button(description='Plot')\n",
    "\n",
    "\n",
    "                           \n",
    "        controls = widgets.VBox([\n",
    "            fileuploader,\n",
    "            plot_button\n",
    "        ])\n",
    "\n",
    "        app = TwoByTwoLayout(top_left=controls, top_right=output)\n",
    "\n",
    "        # observe stuff\n",
    "        fileuploader.observe(self.update, 'value')\n",
    "         \n",
    "        # add to children\n",
    "        self.children = [controls, output]\n",
    "     \n",
    "    def update(self, change):\n",
    "        \"\"\"Draw line in plot\"\"\"\n",
    "        self.fig.canvas.draw()\n",
    " \n",
    "         \n",
    "\n",
    "toolbox()"
   ]
  },
  {
   "cell_type": "code",
   "execution_count": null,
   "metadata": {},
   "outputs": [],
   "source": [
    "class Toolbar:\n",
    "    def __init__(self):\n",
    "        self.create_widgets()\n",
    "        self.setup_interactive_plot()\n",
    "        map_output = widgets.Output()\n",
    "        plot_output = widgets.Output()\n",
    "        self.fileuploader.observe(self.open_file, names='files')\n",
    "\n",
    "        with map_output:\n",
    "            map_output.clear_output()\n",
    "            fig=plt.plot()\n",
    "            plt.axis('off')\n",
    "\n",
    "        with plot_output:\n",
    "            plot_output.clear_output()\n",
    "            fig=plt.plot()\n",
    "            plt.axis('off')   \n",
    "\n",
    "    ## create buttons\n",
    "    def create_widgets(self):\n",
    "        self.fileuploader = SelectFilesButton()\n",
    "        self.plot_button = widgets.Button(description=\"Plot\")\n",
    "        self.save_button = widgets.Button(description=\"Save\")\n",
    "        self.plot_button.on_click(self.plot)\n",
    "        self.save_button.on_click(self.save)\n",
    "        self.layerselector = widgets.Dropdown(\n",
    "            options=[\"No file uploaded\"],\n",
    "            value=None,\n",
    "            description=\"Layer:\"\n",
    "        )\n",
    "    \n",
    "    ## define toolbar layout\n",
    "    def setup_interactive_plot(self):\n",
    "        display(self.fileuploader, self.layerselector, self.plot_button, self.save_button)\n",
    "    \n",
    "    ## define dropdown uppdate event\n",
    "    def update_dropdown(self):\n",
    "        self.layerselector.options = self.ds_list\n",
    "        self.layerselector.value = self.ds_list[0]\n",
    "\n",
    "    ## define open file event\n",
    "    def open_file(self, event=None):\n",
    "        init_ds = self.fileuploader.files[0]\n",
    "        if init_ds.endswith(\".nc\"):\n",
    "            self.ds = nc.Dataset(path)\n",
    "            self.ds_list = self.fileuploader.files\n",
    "            self.update_dropdown()\n",
    "        elif init_ds.endswith(\".tif\"):\n",
    "            self.ds = gdal.Open(path)\n",
    "            self.ds_list = self.fileuploader.files\n",
    "            self.update_dropdown()\n",
    "        else:\n",
    "            print(\"File type not supported\")\n",
    "        \n",
    "    def plot(self, event=None):\n",
    "        plt.figure()\n",
    "        x = np.linspace(0, 10, 100)\n",
    "        y = np.sin(x)\n",
    "        plt.plot(x, y)\n",
    "        plt.show()\n",
    "\n",
    "    def save(self, event=None):\n",
    "        plt.savefig(f\"test.png\", dpi=600)\n",
    "        print(f\"Plot saved as test.png\")\n",
    "\n",
    "\n",
    "Toolbar()"
   ]
  },
  {
   "cell_type": "code",
   "execution_count": 16,
   "metadata": {},
   "outputs": [
    {
     "data": {
      "application/vnd.jupyter.widget-view+json": {
       "model_id": "ff767674b6964db3b3885be114db42ce",
       "version_major": 2,
       "version_minor": 0
      },
      "text/plain": [
       "SelectFilesButton(description='Select Files', icon='square-o', style=ButtonStyle())"
      ]
     },
     "metadata": {},
     "output_type": "display_data"
    },
    {
     "data": {
      "application/vnd.jupyter.widget-view+json": {
       "model_id": "2a6755f165964661b4d9484ddd445026",
       "version_major": 2,
       "version_minor": 0
      },
      "text/plain": [
       "Dropdown(description='Layer:', options=('No file uploaded',), value=None)"
      ]
     },
     "metadata": {},
     "output_type": "display_data"
    },
    {
     "data": {
      "application/vnd.jupyter.widget-view+json": {
       "model_id": "2872847af5c043e58bb800f75efe42e7",
       "version_major": 2,
       "version_minor": 0
      },
      "text/plain": [
       "Button(description='Plot', style=ButtonStyle())"
      ]
     },
     "metadata": {},
     "output_type": "display_data"
    },
    {
     "data": {
      "application/vnd.jupyter.widget-view+json": {
       "model_id": "4da8d1ebbda74ab594dc6972edf98e0b",
       "version_major": 2,
       "version_minor": 0
      },
      "text/plain": [
       "Button(description='Save', style=ButtonStyle())"
      ]
     },
     "metadata": {},
     "output_type": "display_data"
    },
    {
     "data": {
      "image/png": "[encoded data removed]",
      "text/plain": [
       "<Figure size 640x480 with 2 Axes>"
      ]
     },
     "metadata": {},
     "output_type": "display_data"
    }
   ],
   "source": [
    "\n",
    "class SelectFilesButton(widgets.Button):\n",
    "    \"\"\"A file widget that leverages tkinter.filedialog.\"\"\"\n",
    "\n",
    "    def __init__(self):\n",
    "        super(SelectFilesButton, self).__init__()\n",
    "        # Add the selected_files trait\n",
    "        self.add_traits(files=traitlets.traitlets.List())\n",
    "        # Create the button.\n",
    "        self.description = \"Select Files\"\n",
    "        self.icon = \"square-o\"\n",
    "        # Set on click behavior.\n",
    "        self.on_click(self.select_files)\n",
    "\n",
    "    @staticmethod\n",
    "    def select_files(b):\n",
    "        \"\"\"Generate instance of tkinter.filedialog.\n",
    "\n",
    "        Parameters\n",
    "        ----------\n",
    "        b : obj:\n",
    "            An instance of ipywidgets.widgets.Button \n",
    "        \"\"\"\n",
    "        # Create Tk root\n",
    "        root = Tk()\n",
    "        # Hide the main window\n",
    "        root.withdraw()\n",
    "        # Raise the root to the top of all windows.\n",
    "        root.call('wm', 'attributes', '.', '-topmost', True)\n",
    "        # List of selected fileswill be set to b.value\n",
    "        b.files = filedialog.askopenfilename(multiple=True)\n",
    "\n",
    "        b.description = \"Files Selected\"\n",
    "        b.icon = \"check-square-o\"\n",
    "        b.style.button_color = \"lightgreen\"\n",
    "\n",
    "class Toolbar:\n",
    "    def __init__(self):\n",
    "        self.create_widgets()\n",
    "        self.setup_interactive_plot()\n",
    "\n",
    "        # Observe the changes in the fileuploader.files and call open_file\n",
    "        self.fileuploader.observe(self.open_file, names='files')\n",
    "\n",
    "    ## create buttons\n",
    "    def create_widgets(self):\n",
    "        self.fileuploader = SelectFilesButton()\n",
    "        self.plot_button = widgets.Button(description=\"Plot\")\n",
    "        self.save_button = widgets.Button(description=\"Save\")\n",
    "        self.plot_button.on_click(self.plot)\n",
    "        self.save_button.on_click(self.save)\n",
    "        self.layerselector = widgets.Dropdown(\n",
    "            options=[\"No file uploaded\"],\n",
    "            value=None,\n",
    "            description=\"Layer:\"\n",
    "        )\n",
    "\n",
    "    ## define toolbar layout\n",
    "    def setup_interactive_plot(self):\n",
    "        display(self.fileuploader, self.layerselector, self.plot_button, self.save_button)\n",
    "\n",
    "    ## define open file event\n",
    "    def open_file(self, change):\n",
    "        self.ds_list = self.fileuploader.files\n",
    "        self.update_dropdown()\n",
    "\n",
    "    def update_dropdown(self):\n",
    "        if len(self.ds_list) > 0:\n",
    "            file_names = [os.path.basename(file_path) for file_path in self.ds_list]\n",
    "            self.layerselector.options = file_names\n",
    "            self.layerselector.value = file_names[0]\n",
    "        else:\n",
    "            self.layerselector.options = [\"No file uploaded\"]\n",
    "            self.layerselector.value = None\n",
    "\n",
    "    def read_and_plot_file(self, file_path):\n",
    "        if file_path.endswith(\".nc\"):\n",
    "            ds = nc.Dataset(file_path)\n",
    "            lat = ds.variables['lat'][:]\n",
    "            lon = ds.variables['lon'][:]\n",
    "            var = ds.variables['lwe_thickness'][:]\n",
    "            var = var.reshape((len(lat), len(lon)))\n",
    "            lons,lats= np.meshgrid(lon,lat)\n",
    "            ax = plt.axes(projection=ccrs.PlateCarree())\n",
    "\n",
    "        elif file_path.endswith(\".tif\"):\n",
    "            with rasterio.open(file_path) as ds:\n",
    "                data = ds.read(1)  # Assume you want to read the first band\n",
    "        else:\n",
    "            print(\"File type not supported\")\n",
    "            return\n",
    "        \n",
    "\n",
    "        plt.contourf(lons, lats, var, 60, transform=ccrs.PlateCarree())\n",
    "        plt.colorbar()\n",
    "        plt.show()\n",
    "\n",
    "    def plot(self, event=None):\n",
    "        selected_file_name = self.layerselector.value\n",
    "        selected_file_index = self.layerselector.options.index(selected_file_name)\n",
    "        selected_file_path = self.ds_list[selected_file_index]\n",
    "        self.read_and_plot_file(selected_file_path)\n",
    "\n",
    "    def save(self, event=None):\n",
    "        plt.savefig(f\"test.png\", dpi=600)\n",
    "        print(f\"Plot saved as test.png\")\n",
    "\n",
    "toolbar = Toolbar()\n"
   ]
  },
  {
   "cell_type": "code",
   "execution_count": 13,
   "metadata": {},
   "outputs": [],
   "source": [
    "path = 'D:/geog510/rasterarea/docs/examples/data/grace_nc/test1.nc'"
   ]
  },
  {
   "cell_type": "code",
   "execution_count": 14,
   "metadata": {},
   "outputs": [
    {
     "data": {
      "text/plain": [
       "'test1.nc'"
      ]
     },
     "execution_count": 14,
     "metadata": {},
     "output_type": "execute_result"
    }
   ],
   "source": []
  },
  {
   "cell_type": "code",
   "execution_count": 15,
   "metadata": {},
   "outputs": [
    {
     "data": {
      "text/plain": [
       "dict_keys(['lon', 'lat', 'time', 'lwe_thickness', 'uncertainty', 'lat_bounds', 'lon_bounds', 'time_bounds'])"
      ]
     },
     "execution_count": 15,
     "metadata": {},
     "output_type": "execute_result"
    }
   ],
   "source": [
    "data.variables.keys()"
   ]
  }
 ],
 "metadata": {
  "kernelspec": {
   "display_name": "geos",
   "language": "python",
   "name": "python3"
  },
  "language_info": {
   "codemirror_mode": {
    "name": "ipython",
    "version": 3
   },
   "file_extension": ".py",
   "mimetype": "text/x-python",
   "name": "python",
   "nbconvert_exporter": "python",
   "pygments_lexer": "ipython3",
   "version": "3.11.0"
  },
  "orig_nbformat": 4
 },
 "nbformat": 4,
 "nbformat_minor": 2
}
